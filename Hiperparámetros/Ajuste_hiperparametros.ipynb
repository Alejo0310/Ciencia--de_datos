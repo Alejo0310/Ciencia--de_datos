{
 "cells": [
  {
   "cell_type": "markdown",
   "id": "81831c0f",
   "metadata": {},
   "source": [
    "# Heart Disease UCI #\n",
    "\n",
    "URL: https://www.kaggle.com/datasets/fedesoriano/heart-failure-prediction\n",
    "\n",
    "- Variable objetivo binaria: HeartDisease (1 = tiene enfermedad, 0 = no tiene)."
   ]
  },
  {
   "cell_type": "markdown",
   "id": "fe4df349",
   "metadata": {},
   "source": [
    "## Paso 1: Cargar dataset ##\n",
    "Se descarga el dataset desde KaggleHub y se carga en un DataFrame de pandas para su exploración inicial."
   ]
  },
  {
   "cell_type": "code",
   "execution_count": 1,
   "id": "267f97e9",
   "metadata": {},
   "outputs": [
    {
     "name": "stderr",
     "output_type": "stream",
     "text": [
      "c:\\Users\\Alejo\\AppData\\Local\\Programs\\Python\\Python312\\Lib\\site-packages\\tqdm\\auto.py:21: TqdmWarning: IProgress not found. Please update jupyter and ipywidgets. See https://ipywidgets.readthedocs.io/en/stable/user_install.html\n",
      "  from .autonotebook import tqdm as notebook_tqdm\n"
     ]
    },
    {
     "name": "stdout",
     "output_type": "stream",
     "text": [
      "Warning: Looks like you're using an outdated `kagglehub` version, please consider updating (latest version: 0.3.12)\n",
      "Downloading from https://www.kaggle.com/api/v1/datasets/download/fedesoriano/heart-failure-prediction?dataset_version_number=1...\n"
     ]
    },
    {
     "name": "stderr",
     "output_type": "stream",
     "text": [
      "100%|██████████| 8.56k/8.56k [00:00<00:00, 3.94MB/s]"
     ]
    },
    {
     "name": "stdout",
     "output_type": "stream",
     "text": [
      "Extracting files...\n",
      "Path to dataset files: C:\\Users\\Alejo\\.cache\\kagglehub\\datasets\\fedesoriano\\heart-failure-prediction\\versions\\1\n"
     ]
    },
    {
     "name": "stderr",
     "output_type": "stream",
     "text": [
      "\n"
     ]
    }
   ],
   "source": [
    "import kagglehub\n",
    "\n",
    "# Download latest version\n",
    "path = kagglehub.dataset_download(\"fedesoriano/heart-failure-prediction\")\n",
    "\n",
    "print(\"Path to dataset files:\", path)"
   ]
  },
  {
   "cell_type": "markdown",
   "id": "65c28544",
   "metadata": {},
   "source": [
    "## Visualización del Data Frame ##"
   ]
  },
  {
   "cell_type": "code",
   "execution_count": 3,
   "id": "81ddd35d",
   "metadata": {},
   "outputs": [
    {
     "data": {
      "text/html": [
       "<div>\n",
       "<style scoped>\n",
       "    .dataframe tbody tr th:only-of-type {\n",
       "        vertical-align: middle;\n",
       "    }\n",
       "\n",
       "    .dataframe tbody tr th {\n",
       "        vertical-align: top;\n",
       "    }\n",
       "\n",
       "    .dataframe thead th {\n",
       "        text-align: right;\n",
       "    }\n",
       "</style>\n",
       "<table border=\"1\" class=\"dataframe\">\n",
       "  <thead>\n",
       "    <tr style=\"text-align: right;\">\n",
       "      <th></th>\n",
       "      <th>Age</th>\n",
       "      <th>Sex</th>\n",
       "      <th>ChestPainType</th>\n",
       "      <th>RestingBP</th>\n",
       "      <th>Cholesterol</th>\n",
       "      <th>FastingBS</th>\n",
       "      <th>RestingECG</th>\n",
       "      <th>MaxHR</th>\n",
       "      <th>ExerciseAngina</th>\n",
       "      <th>Oldpeak</th>\n",
       "      <th>ST_Slope</th>\n",
       "      <th>HeartDisease</th>\n",
       "    </tr>\n",
       "  </thead>\n",
       "  <tbody>\n",
       "    <tr>\n",
       "      <th>0</th>\n",
       "      <td>40</td>\n",
       "      <td>M</td>\n",
       "      <td>ATA</td>\n",
       "      <td>140</td>\n",
       "      <td>289</td>\n",
       "      <td>0</td>\n",
       "      <td>Normal</td>\n",
       "      <td>172</td>\n",
       "      <td>N</td>\n",
       "      <td>0.0</td>\n",
       "      <td>Up</td>\n",
       "      <td>0</td>\n",
       "    </tr>\n",
       "    <tr>\n",
       "      <th>1</th>\n",
       "      <td>49</td>\n",
       "      <td>F</td>\n",
       "      <td>NAP</td>\n",
       "      <td>160</td>\n",
       "      <td>180</td>\n",
       "      <td>0</td>\n",
       "      <td>Normal</td>\n",
       "      <td>156</td>\n",
       "      <td>N</td>\n",
       "      <td>1.0</td>\n",
       "      <td>Flat</td>\n",
       "      <td>1</td>\n",
       "    </tr>\n",
       "    <tr>\n",
       "      <th>2</th>\n",
       "      <td>37</td>\n",
       "      <td>M</td>\n",
       "      <td>ATA</td>\n",
       "      <td>130</td>\n",
       "      <td>283</td>\n",
       "      <td>0</td>\n",
       "      <td>ST</td>\n",
       "      <td>98</td>\n",
       "      <td>N</td>\n",
       "      <td>0.0</td>\n",
       "      <td>Up</td>\n",
       "      <td>0</td>\n",
       "    </tr>\n",
       "    <tr>\n",
       "      <th>3</th>\n",
       "      <td>48</td>\n",
       "      <td>F</td>\n",
       "      <td>ASY</td>\n",
       "      <td>138</td>\n",
       "      <td>214</td>\n",
       "      <td>0</td>\n",
       "      <td>Normal</td>\n",
       "      <td>108</td>\n",
       "      <td>Y</td>\n",
       "      <td>1.5</td>\n",
       "      <td>Flat</td>\n",
       "      <td>1</td>\n",
       "    </tr>\n",
       "    <tr>\n",
       "      <th>4</th>\n",
       "      <td>54</td>\n",
       "      <td>M</td>\n",
       "      <td>NAP</td>\n",
       "      <td>150</td>\n",
       "      <td>195</td>\n",
       "      <td>0</td>\n",
       "      <td>Normal</td>\n",
       "      <td>122</td>\n",
       "      <td>N</td>\n",
       "      <td>0.0</td>\n",
       "      <td>Up</td>\n",
       "      <td>0</td>\n",
       "    </tr>\n",
       "  </tbody>\n",
       "</table>\n",
       "</div>"
      ],
      "text/plain": [
       "   Age Sex ChestPainType  RestingBP  Cholesterol  FastingBS RestingECG  MaxHR  \\\n",
       "0   40   M           ATA        140          289          0     Normal    172   \n",
       "1   49   F           NAP        160          180          0     Normal    156   \n",
       "2   37   M           ATA        130          283          0         ST     98   \n",
       "3   48   F           ASY        138          214          0     Normal    108   \n",
       "4   54   M           NAP        150          195          0     Normal    122   \n",
       "\n",
       "  ExerciseAngina  Oldpeak ST_Slope  HeartDisease  \n",
       "0              N      0.0       Up             0  \n",
       "1              N      1.0     Flat             1  \n",
       "2              N      0.0       Up             0  \n",
       "3              Y      1.5     Flat             1  \n",
       "4              N      0.0       Up             0  "
      ]
     },
     "execution_count": 3,
     "metadata": {},
     "output_type": "execute_result"
    }
   ],
   "source": [
    "import pandas as pd\n",
    "from sklearn.model_selection import train_test_split\n",
    "df = pd.read_csv(path + \"/heart.csv\")\n",
    "df.head()\n"
   ]
  },
  {
   "cell_type": "markdown",
   "id": "cee930ac",
   "metadata": {},
   "source": [
    "## Paso 2: División en conjunto de entrenamiento y prueba ##\n",
    "Se separa la variable objetivo (HeartDisease) del resto y se divide el conjunto de datos en entrenamiento y prueba con estratificación."
   ]
  },
  {
   "cell_type": "code",
   "execution_count": 7,
   "id": "0f830af7",
   "metadata": {},
   "outputs": [],
   "source": [
    "X = df.drop(\"HeartDisease\", axis=1)\n",
    "y = df[\"HeartDisease\"]\n",
    "\n",
    "# Codificación de variables categóricas\n",
    "X = pd.get_dummies(X, drop_first=True)\n",
    "\n",
    "# División\n",
    "X_train, X_test, y_train, y_test = train_test_split(\n",
    "    X, y, test_size=0.2, stratify=y, random_state=42\n",
    ")"
   ]
  },
  {
   "cell_type": "markdown",
   "id": "7b84b2d2",
   "metadata": {},
   "source": [
    "## Paso 3: Preprocesamiento (escalado) ##\n",
    "Se aplica codificación one-hot a variables categóricas y escalado estándar (StandardScaler) a los datos."
   ]
  },
  {
   "cell_type": "code",
   "execution_count": null,
   "id": "d33d3f65",
   "metadata": {},
   "outputs": [],
   "source": [
    "from sklearn.pipeline import Pipeline\n",
    "from sklearn.preprocessing import StandardScaler\n",
    "\n",
    "pipeline = Pipeline([\n",
    "    ('scaler', StandardScaler())\n",
    "])\n",
    "\n",
    "X_train_scaled = pipeline.fit_transform(X_train)\n",
    "X_test_scaled = pipeline.transform(X_test)"
   ]
  },
  {
   "cell_type": "markdown",
   "id": "cd0b0d3f",
   "metadata": {},
   "source": [
    "## Paso 4: Modelo baseline (Random Forest por defecto) ##\n",
    "Se entrena un modelo base de RandomForestClassifier con hiperparámetros por defecto. Se evalúa usando validación cruzada y AUC-ROC."
   ]
  },
  {
   "cell_type": "code",
   "execution_count": 9,
   "id": "b2d12a9a",
   "metadata": {},
   "outputs": [
    {
     "name": "stdout",
     "output_type": "stream",
     "text": [
      "AUC baseline (CV): 0.9228\n"
     ]
    }
   ],
   "source": [
    "from sklearn.ensemble import RandomForestClassifier\n",
    "from sklearn.model_selection import cross_val_score\n",
    "\n",
    "rf_baseline = RandomForestClassifier(random_state=42)\n",
    "baseline_cv_auc = cross_val_score(rf_baseline, X_train_scaled, y_train, cv=5, scoring='roc_auc')\n",
    "print(f\"AUC baseline (CV): {baseline_cv_auc.mean():.4f}\")\n"
   ]
  },
  {
   "cell_type": "markdown",
   "id": "238513fa",
   "metadata": {},
   "source": [
    "## Paso 5: Definición del espacio de hiperparámetros ##\n",
    "Se define un rango de valores para los hiperparámetros que serán ajustados en los modelos posteriores.\n",
    "\n"
   ]
  },
  {
   "cell_type": "code",
   "execution_count": null,
   "id": "d845e95a",
   "metadata": {},
   "outputs": [],
   "source": [
    "param_dist = {\n",
    "    'n_estimators': [50, 100, 200],\n",
    "    'max_depth': [None, 5, 10, 20],\n",
    "    'min_samples_split': [2, 5, 10],\n",
    "    'min_samples_leaf': [1, 2, 4]\n",
    "}"
   ]
  },
  {
   "cell_type": "markdown",
   "id": "173de27e",
   "metadata": {},
   "source": [
    "## Paso 6: Ajuste con búsqueda aleatoria ##\n",
    "Se ajustan los hiperparámetros usando búsqueda aleatoria (RandomizedSearchCV) y optimización bayesiana (Optuna). Se evalúa el desempeño con AUC-ROC."
   ]
  },
  {
   "cell_type": "code",
   "execution_count": null,
   "id": "2f8f3de8",
   "metadata": {},
   "outputs": [
    {
     "name": "stdout",
     "output_type": "stream",
     "text": [
      "AUC random search (CV): 0.9286\n"
     ]
    }
   ],
   "source": [
    "from sklearn.model_selection import RandomizedSearchCV\n",
    "\n",
    "random_search = RandomizedSearchCV(\n",
    "    estimator=RandomForestClassifier(random_state=42),\n",
    "    param_distributions=param_dist,\n",
    "    n_iter=20,\n",
    "    cv=5,\n",
    "    scoring='roc_auc',\n",
    "    random_state=42,\n",
    "    n_jobs=-1\n",
    ")\n",
    "\n",
    "random_search.fit(X_train_scaled, y_train)\n",
    "print(f\"AUC random search (CV): {random_search.best_score_:.4f}\")"
   ]
  },
  {
   "cell_type": "markdown",
   "id": "a69d9e22",
   "metadata": {},
   "source": [
    "## Ajuste con Optuna ##"
   ]
  },
  {
   "cell_type": "code",
   "execution_count": null,
   "id": "c073b19c",
   "metadata": {},
   "outputs": [
    {
     "name": "stderr",
     "output_type": "stream",
     "text": [
      "[I 2025-05-25 20:23:46,509] A new study created in memory with name: no-name-271d72ad-938d-4a61-9973-a42fb69022f9\n",
      "[I 2025-05-25 20:23:48,057] Trial 0 finished with value: 0.9252637836919678 and parameters: {'n_estimators': 158, 'max_depth': 9, 'min_samples_split': 8, 'min_samples_leaf': 2}. Best is trial 0 with value: 0.9252637836919678.\n",
      "[I 2025-05-25 20:23:49,120] Trial 1 finished with value: 0.9256374319246948 and parameters: {'n_estimators': 115, 'max_depth': 5, 'min_samples_split': 10, 'min_samples_leaf': 4}. Best is trial 1 with value: 0.9256374319246948.\n",
      "[I 2025-05-25 20:23:49,919] Trial 2 finished with value: 0.9264024442886232 and parameters: {'n_estimators': 80, 'max_depth': 20, 'min_samples_split': 4, 'min_samples_leaf': 3}. Best is trial 2 with value: 0.9264024442886232.\n",
      "[I 2025-05-25 20:23:50,918] Trial 3 finished with value: 0.9266656980478117 and parameters: {'n_estimators': 100, 'max_depth': 16, 'min_samples_split': 6, 'min_samples_leaf': 3}. Best is trial 3 with value: 0.9266656980478117.\n",
      "[I 2025-05-25 20:23:51,934] Trial 4 finished with value: 0.9225940034070115 and parameters: {'n_estimators': 100, 'max_depth': 13, 'min_samples_split': 7, 'min_samples_leaf': 1}. Best is trial 3 with value: 0.9266656980478117.\n",
      "[I 2025-05-25 20:23:53,696] Trial 5 finished with value: 0.928359236868722 and parameters: {'n_estimators': 184, 'max_depth': 14, 'min_samples_split': 8, 'min_samples_leaf': 4}. Best is trial 5 with value: 0.928359236868722.\n",
      "[I 2025-05-25 20:23:54,271] Trial 6 finished with value: 0.9260906192071502 and parameters: {'n_estimators': 60, 'max_depth': 10, 'min_samples_split': 3, 'min_samples_leaf': 4}. Best is trial 5 with value: 0.928359236868722.\n",
      "[I 2025-05-25 20:23:55,163] Trial 7 finished with value: 0.9281261647115304 and parameters: {'n_estimators': 123, 'max_depth': 16, 'min_samples_split': 5, 'min_samples_leaf': 4}. Best is trial 5 with value: 0.928359236868722.\n",
      "[I 2025-05-25 20:23:56,035] Trial 8 finished with value: 0.9236133975429368 and parameters: {'n_estimators': 139, 'max_depth': 4, 'min_samples_split': 6, 'min_samples_leaf': 4}. Best is trial 5 with value: 0.928359236868722.\n",
      "[I 2025-05-25 20:23:57,261] Trial 9 finished with value: 0.9265699170848223 and parameters: {'n_estimators': 175, 'max_depth': 20, 'min_samples_split': 4, 'min_samples_leaf': 2}. Best is trial 5 with value: 0.928359236868722.\n",
      "[I 2025-05-25 20:23:58,547] Trial 10 finished with value: 0.9281154256764012 and parameters: {'n_estimators': 189, 'max_depth': 14, 'min_samples_split': 10, 'min_samples_leaf': 3}. Best is trial 5 with value: 0.928359236868722.\n",
      "[I 2025-05-25 20:23:59,543] Trial 11 finished with value: 0.9277552679178696 and parameters: {'n_estimators': 146, 'max_depth': 16, 'min_samples_split': 8, 'min_samples_leaf': 4}. Best is trial 5 with value: 0.928359236868722.\n",
      "[I 2025-05-25 20:24:00,409] Trial 12 finished with value: 0.927603559744481 and parameters: {'n_estimators': 126, 'max_depth': 17, 'min_samples_split': 5, 'min_samples_leaf': 4}. Best is trial 5 with value: 0.928359236868722.\n",
      "[I 2025-05-25 20:24:01,765] Trial 13 finished with value: 0.9268841426565004 and parameters: {'n_estimators': 196, 'max_depth': 12, 'min_samples_split': 2, 'min_samples_leaf': 3}. Best is trial 5 with value: 0.928359236868722.\n",
      "[I 2025-05-25 20:24:02,895] Trial 14 finished with value: 0.9252175988219348 and parameters: {'n_estimators': 165, 'max_depth': 8, 'min_samples_split': 8, 'min_samples_leaf': 1}. Best is trial 5 with value: 0.928359236868722.\n",
      "[I 2025-05-25 20:24:03,745] Trial 15 finished with value: 0.9287900897656997 and parameters: {'n_estimators': 123, 'max_depth': 17, 'min_samples_split': 9, 'min_samples_leaf': 4}. Best is trial 15 with value: 0.9287900897656997.\n",
      "[I 2025-05-25 20:24:04,738] Trial 16 finished with value: 0.9255977887414201 and parameters: {'n_estimators': 144, 'max_depth': 18, 'min_samples_split': 9, 'min_samples_leaf': 2}. Best is trial 15 with value: 0.9287900897656997.\n",
      "[I 2025-05-25 20:24:05,426] Trial 17 finished with value: 0.927637657935761 and parameters: {'n_estimators': 99, 'max_depth': 14, 'min_samples_split': 9, 'min_samples_leaf': 3}. Best is trial 15 with value: 0.9287900897656997.\n",
      "[I 2025-05-25 20:24:06,619] Trial 18 finished with value: 0.9270675485309632 and parameters: {'n_estimators': 178, 'max_depth': 7, 'min_samples_split': 7, 'min_samples_leaf': 4}. Best is trial 15 with value: 0.9287900897656997.\n",
      "[I 2025-05-25 20:24:07,022] Trial 19 finished with value: 0.9278712214213568 and parameters: {'n_estimators': 55, 'max_depth': 11, 'min_samples_split': 9, 'min_samples_leaf': 3}. Best is trial 15 with value: 0.9287900897656997.\n",
      "[I 2025-05-25 20:24:07,575] Trial 20 finished with value: 0.9270655691793902 and parameters: {'n_estimators': 78, 'max_depth': 18, 'min_samples_split': 7, 'min_samples_leaf': 4}. Best is trial 15 with value: 0.9287900897656997.\n",
      "[I 2025-05-25 20:24:08,427] Trial 21 finished with value: 0.9277868252393997 and parameters: {'n_estimators': 120, 'max_depth': 15, 'min_samples_split': 5, 'min_samples_leaf': 4}. Best is trial 15 with value: 0.9287900897656997.\n",
      "[I 2025-05-25 20:24:09,371] Trial 22 finished with value: 0.9278306657710452 and parameters: {'n_estimators': 137, 'max_depth': 18, 'min_samples_split': 5, 'min_samples_leaf': 4}. Best is trial 15 with value: 0.9287900897656997.\n",
      "[I 2025-05-25 20:24:10,135] Trial 23 finished with value: 0.9269813554908405 and parameters: {'n_estimators': 109, 'max_depth': 13, 'min_samples_split': 10, 'min_samples_leaf': 4}. Best is trial 15 with value: 0.9287900897656997.\n",
      "[I 2025-05-25 20:24:11,049] Trial 24 finished with value: 0.9278574923019367 and parameters: {'n_estimators': 128, 'max_depth': 16, 'min_samples_split': 8, 'min_samples_leaf': 3}. Best is trial 15 with value: 0.9287900897656997.\n",
      "[I 2025-05-25 20:24:12,184] Trial 25 finished with value: 0.9274924633732221 and parameters: {'n_estimators': 156, 'max_depth': 19, 'min_samples_split': 7, 'min_samples_leaf': 4}. Best is trial 15 with value: 0.9287900897656997.\n",
      "[I 2025-05-25 20:24:12,809] Trial 26 finished with value: 0.9279348695066852 and parameters: {'n_estimators': 84, 'max_depth': 15, 'min_samples_split': 9, 'min_samples_leaf': 3}. Best is trial 15 with value: 0.9287900897656997.\n",
      "[I 2025-05-25 20:24:13,720] Trial 27 finished with value: 0.9278687647793339 and parameters: {'n_estimators': 129, 'max_depth': 12, 'min_samples_split': 4, 'min_samples_leaf': 4}. Best is trial 15 with value: 0.9287900897656997.\n",
      "[I 2025-05-25 20:24:14,783] Trial 28 finished with value: 0.9289015511237734 and parameters: {'n_estimators': 151, 'max_depth': 17, 'min_samples_split': 6, 'min_samples_leaf': 2}. Best is trial 28 with value: 0.9289015511237734.\n",
      "[I 2025-05-25 20:24:15,905] Trial 29 finished with value: 0.9242832045000066 and parameters: {'n_estimators': 159, 'max_depth': 17, 'min_samples_split': 8, 'min_samples_leaf': 2}. Best is trial 28 with value: 0.9289015511237734.\n"
     ]
    },
    {
     "name": "stdout",
     "output_type": "stream",
     "text": [
      "Mejor AUC Optuna (CV): 0.9289\n"
     ]
    }
   ],
   "source": [
    "import optuna\n",
    "\n",
    "def objective(trial):\n",
    "    model = RandomForestClassifier(\n",
    "        n_estimators=trial.suggest_int('n_estimators', 50, 200),\n",
    "        max_depth=trial.suggest_int('max_depth', 3, 20),\n",
    "        min_samples_split=trial.suggest_int('min_samples_split', 2, 10),\n",
    "        min_samples_leaf=trial.suggest_int('min_samples_leaf', 1, 4),\n",
    "        random_state=42\n",
    "    )\n",
    "    auc = cross_val_score(model, X_train_scaled, y_train, cv=5, scoring='roc_auc').mean()\n",
    "    return auc\n",
    "\n",
    "study = optuna.create_study(direction='maximize')\n",
    "study.optimize(objective, n_trials=30)\n",
    "print(f\"Mejor AUC Optuna (CV): {study.best_value:.4f}\")"
   ]
  },
  {
   "cell_type": "markdown",
   "id": "48a2b653",
   "metadata": {},
   "source": [
    "## Paso 7: Comparación con validación cruzada ##\n",
    "Se comparan los tres modelos (baseline, random search, Optuna) en el conjunto de entrenamiento mediante validación cruzada."
   ]
  },
  {
   "cell_type": "code",
   "execution_count": 15,
   "id": "78913a4e",
   "metadata": {},
   "outputs": [
    {
     "name": "stdout",
     "output_type": "stream",
     "text": [
      "\n",
      "Modelo baseline AUC: 0.9228\n",
      "Modelo random search AUC: 0.9286\n",
      "Modelo Optuna AUC: 0.9289\n",
      "\n"
     ]
    }
   ],
   "source": [
    "best_rf_optuna = RandomForestClassifier(**study.best_params, random_state=42)\n",
    "optuna_cv_auc = cross_val_score(best_rf_optuna, X_train_scaled, y_train, cv=5, scoring='roc_auc')\n",
    "\n",
    "print(f\"\"\"\n",
    "Modelo baseline AUC: {baseline_cv_auc.mean():.4f}\n",
    "Modelo random search AUC: {random_search.best_score_:.4f}\n",
    "Modelo Optuna AUC: {optuna_cv_auc.mean():.4f}\n",
    "\"\"\")"
   ]
  },
  {
   "cell_type": "markdown",
   "id": "7489adce",
   "metadata": {},
   "source": [
    "## Paso 8: Evaluación sobre conjunto de prueba ##\n",
    "Se evalúan los modelos ya entrenados sobre datos no vistos y se calcula el AUC-ROC para cada uno."
   ]
  },
  {
   "cell_type": "code",
   "execution_count": 16,
   "id": "3db09874",
   "metadata": {},
   "outputs": [
    {
     "name": "stdout",
     "output_type": "stream",
     "text": [
      "\n",
      "AUC test baseline: 0.9314\n",
      "AUC test random search: 0.9298\n",
      "AUC test Optuna: 0.9330\n",
      "\n"
     ]
    }
   ],
   "source": [
    "from sklearn.metrics import roc_auc_score\n",
    "\n",
    "rf_baseline.fit(X_train_scaled, y_train)\n",
    "random_search.best_estimator_.fit(X_train_scaled, y_train)\n",
    "best_rf_optuna.fit(X_train_scaled, y_train)\n",
    "\n",
    "df_probs = pd.DataFrame({\n",
    "    'baseline': rf_baseline.predict_proba(X_test_scaled)[:,1],\n",
    "    'random': random_search.best_estimator_.predict_proba(X_test_scaled)[:,1],\n",
    "    'optuna': best_rf_optuna.predict_proba(X_test_scaled)[:,1],\n",
    "})\n",
    "\n",
    "auc_baseline_test = roc_auc_score(y_test, df_probs['baseline'])\n",
    "auc_random_test = roc_auc_score(y_test, df_probs['random'])\n",
    "auc_optuna_test = roc_auc_score(y_test, df_probs['optuna'])\n",
    "\n",
    "print(f\"\"\"\n",
    "AUC test baseline: {auc_baseline_test:.4f}\n",
    "AUC test random search: {auc_random_test:.4f}\n",
    "AUC test Optuna: {auc_optuna_test:.4f}\n",
    "\"\"\")\n"
   ]
  }
 ],
 "metadata": {
  "kernelspec": {
   "display_name": "Python 3",
   "language": "python",
   "name": "python3"
  },
  "language_info": {
   "codemirror_mode": {
    "name": "ipython",
    "version": 3
   },
   "file_extension": ".py",
   "mimetype": "text/x-python",
   "name": "python",
   "nbconvert_exporter": "python",
   "pygments_lexer": "ipython3",
   "version": "3.12.5"
  }
 },
 "nbformat": 4,
 "nbformat_minor": 5
}
